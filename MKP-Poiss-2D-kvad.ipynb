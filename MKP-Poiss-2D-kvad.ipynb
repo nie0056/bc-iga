{
 "cells": [
  {
   "cell_type": "code",
   "execution_count": 1,
   "metadata": {},
   "outputs": [],
   "source": [
    "import numpy as np\n",
    "import matplotlib.pyplot as plt\n",
    "\n",
    "from scipy import interpolate"
   ]
  },
  {
   "cell_type": "markdown",
   "metadata": {},
   "source": [
    "### Zvolení druhu konečného prvku, nainicializování bodů a vah Gaussovy-Legendreovy kvadratury"
   ]
  },
  {
   "cell_type": "code",
   "execution_count": 2,
   "metadata": {},
   "outputs": [],
   "source": [
    "n = 9 # kvadraticke prvky (QUAD9) (4 vrcholy + 5 midpointu)\n",
    "\n",
    "line_o3_QP = np.array([-np.sqrt(3/5), 0, np.sqrt(3/5)], dtype=np.float64)\n",
    "line_o3_QW = np.array([5/9, 8/9, 5/9], dtype=np.float64)\n",
    "tmp = np.ones(shape=line_o3_QW.shape, dtype=np.float64)\n",
    "quad_o3_QP = np.vstack((np.kron(tmp, line_o3_QP), np.kron(line_o3_QP, tmp))) # Gaussovy body\n",
    "quad_o3_QW = np.kron(line_o3_QW, line_o3_QW) # vahy\n",
    "\n",
    "nqp = quad_o3_QP.shape[1] # celkovy pocet pouzitych Gaussovych bodu"
   ]
  },
  {
   "cell_type": "markdown",
   "metadata": {},
   "source": [
    "### Definice kvadratických násadových funkcí a jejich derivací na příslušném referenčním prvku"
   ]
  },
  {
   "cell_type": "code",
   "execution_count": 3,
   "metadata": {},
   "outputs": [],
   "source": [
    "def quad9_N(rs: np.ndarray) -> np.ndarray:\n",
    "\n",
    "    return np.vstack(((-0.5*(1-rs[0, :])*rs[0, :])*(-0.5*(1-rs[1, :])*rs[1, :]),\n",
    "                      ((1-rs[0, :])*(1+rs[0, :]))*(-0.5*(1-rs[1, :])*rs[1, :]),\n",
    "                      (0.5*(1+rs[0, :])*rs[0, :])*(-0.5*(1-rs[1, :])*rs[1, :]),\n",
    "                      (-0.5*(1-rs[0, :])*rs[0, :])*((1-rs[1, :])*(1+rs[1, :])),\n",
    "                      ((1-rs[0, :])*(1+rs[0, :]))*((1-rs[1, :])*(1+rs[1, :])),\n",
    "                      (0.5*(1+rs[0, :])*rs[0, :])*((1-rs[1, :])*(1+rs[1, :])),\n",
    "                      (-0.5*(1-rs[0, :])*rs[0, :])*(0.5*(1+rs[1, :])*rs[1, :]),\n",
    "                      ((1-rs[0, :])*(1+rs[0, :]))*(0.5*(1+rs[1, :])*rs[1, :]),\n",
    "                      (0.5*(1+rs[0, :])*rs[0, :])*(0.5*(1+rs[1, :])*rs[1, :])))\n",
    "\n",
    "def quad9_dNdxi(rs: np.ndarray) -> np.ndarray:\n",
    "\n",
    "    return np.vstack((np.hstack(((-0.5+rs[0, :])*(-0.5*(1-rs[1, :])*rs[1, :]), (-0.5*(1-rs[0, :])*rs[0, :])*(-0.5+rs[1, :]))),\n",
    "                      np.hstack(((-2*rs[0, :])*(-0.5*(1-rs[1, :])*rs[1, :]), ((1-rs[0, :])*(1+rs[0, :]))*(-0.5+rs[1, :]))),\n",
    "                      np.hstack(((0.5+rs[0, :])*(-0.5*(1-rs[1, :])*rs[1, :]), (0.5*(1+rs[0, :])*rs[0, :])*(-0.5+rs[1, :]))),\n",
    "                      np.hstack(((-0.5+rs[0, :])*((1-rs[1, :])*(1+rs[1, :])), (-0.5*(1-rs[0, :])*rs[0, :])*(-2*rs[1, :]))),\n",
    "                      np.hstack(((-2*rs[0, :])*((1-rs[1, :])*(1+rs[1, :])), ((1-rs[0, :])*(1+rs[0, :]))*(-2*rs[1, :]))),\n",
    "                      np.hstack(((0.5+rs[0, :])*((1-rs[1, :])*(1+rs[1, :])), (0.5*(1+rs[0, :])*rs[0, :])*(-2*rs[1, :]))),\n",
    "                      np.hstack(((-0.5+rs[0, :])*(0.5*(1+rs[1, :])*rs[1, :]), (-0.5*(1-rs[0, :])*rs[0, :])*(0.5+rs[1, :]))),\n",
    "                      np.hstack(((-2*rs[0, :])*(0.5*(1+rs[1, :])*rs[1, :]), ((1-rs[0, :])*(1+rs[0, :]))*(0.5+rs[1, :]))),\n",
    "                      np.hstack(((0.5+rs[0, :])*(0.5*(1+rs[1, :])*rs[1, :]), (0.5*(1+rs[0, :])*rs[0, :])*(0.5+rs[1, :])))))"
   ]
  },
  {
   "cell_type": "markdown",
   "metadata": {},
   "source": [
    "### Výpočet hodnot násadových funkcí a hodnot jejich derivací v bodech Gaussovy-Legendreovy kvadratury"
   ]
  },
  {
   "cell_type": "code",
   "execution_count": 4,
   "metadata": {},
   "outputs": [],
   "source": [
    "quad_o3_QP_N = quad9_N(quad_o3_QP)\n",
    "\n",
    "tmp = quad9_dNdxi(quad_o3_QP)\n",
    "dNdxi = np.zeros(shape=(nqp, n, 2), dtype=np.float64)\n",
    "dNdxi[:, :, 0] = tmp[:, 0:nqp].T\n",
    "dNdxi[:, :, 1] = tmp[:, nqp:2*nqp].T"
   ]
  },
  {
   "cell_type": "markdown",
   "metadata": {},
   "source": [
    "### Dekompozice výpočetní oblasti na konečné prvky"
   ]
  },
  {
   "cell_type": "code",
   "execution_count": 5,
   "metadata": {},
   "outputs": [],
   "source": [
    "# Deklarace a definice pomocne funkce\n",
    "\n",
    "def bspl_surf_mpts(n_x: int, n_y: int):\n",
    "    knt_xi = np.array([0, 0, 0, 3, 3, 3], dtype=np.float64)\n",
    "    knt_eta = np.array([0, 0, 0, 4, 4, 4], dtype=np.float64)\n",
    "\n",
    "    ctrlpts = np.array([[0.0, 0.0], [2.0, 0.0], [4.0, 0.0],\n",
    "                        [0.0, 7.0], [2.0, 5.0], [4.0, 3.0],\n",
    "                        [7.0, 7.0], [7.0, 5.0], [7.0, 3.0],], dtype=np.float64)\n",
    "    \n",
    "    bspl_basis_xi = []\n",
    "    c_xi = np.zeros(shape=3, dtype=np.float64)\n",
    "    for i in range(3):\n",
    "        bspl_basis_xi.append(interpolate.BSpline(knt_xi, c_xi, 2, extrapolate=False))\n",
    "\n",
    "    bspl_basis_eta = []\n",
    "    c_eta = np.zeros(shape=3, dtype=np.float64)\n",
    "    for i in range(3):\n",
    "        bspl_basis_eta.append(interpolate.BSpline(knt_eta, c_eta, 2, extrapolate=False))\n",
    "\n",
    "    xixi, etaeta = np.meshgrid(np.linspace(0, 3, n_x), np.linspace(0, 4, n_y))\n",
    "    xx = np.zeros(shape=xixi.shape, dtype=np.float64)\n",
    "    yy = np.zeros(shape=etaeta.shape, dtype=np.float64)\n",
    "    for i in range(3):\n",
    "        c_eta[i] = 1\n",
    "        for j in range(3):\n",
    "            c_xi[j] = 1\n",
    "            xx += ctrlpts[3*i + j, 0]*bspl_basis_xi[j](xixi)*bspl_basis_eta[i](etaeta)\n",
    "            yy += ctrlpts[3*i + j, 1]*bspl_basis_xi[j](xixi)*bspl_basis_eta[i](etaeta)\n",
    "            c_xi[j] = 0\n",
    "        c_eta[i] = 0\n",
    "\n",
    "    return xx, yy"
   ]
  },
  {
   "cell_type": "code",
   "execution_count": 6,
   "metadata": {},
   "outputs": [],
   "source": [
    "N = np.array([4, 5])\n",
    "ne = np.prod(N - 1) # pocet pouzitych konecnych prvku\n",
    "nn = np.prod(N + N - 1) # pocet uzlovych bodu (a nasadovych funkci)\n",
    "\n",
    "ind = np.zeros(shape=(N[1] + N[1] - 1, N[0] + N[0] - 1), dtype=np.int64) # matice globalnich indexu\n",
    "ind[:, :] = np.reshape([i for i in range(0, nn)], newshape=(N[1] + N[1] - 1, N[0] + N[0] - 1))\n",
    "mesh_ele = np.column_stack((np.reshape(ind[0:-2:2, 0:-2:2], newshape=ne),\n",
    "                            np.reshape(ind[0:-2:2, 1:-1:2], newshape=ne),\n",
    "                            np.reshape(ind[0:-2:2, 2::2], newshape=ne),\n",
    "                            np.reshape(ind[1:-1:2, 0:-2:2], newshape=ne),\n",
    "                            np.reshape(ind[1:-1:2, 1:-1:2], newshape=ne),\n",
    "                            np.reshape(ind[1:-1:2, 2::2], newshape=ne),\n",
    "                            np.reshape(ind[2::2, 0:-2:2], newshape=ne),\n",
    "                            np.reshape(ind[2::2, 1:-1:2], newshape=ne),\n",
    "                            np.reshape(ind[2::2, 2::2], newshape=ne))) # matice urcujici vztah mezi lokalnimi (na jednom konecnem prvku)\n",
    "                                                                       # a globalnimi indexy uzlovych bodu (a nasadovych funkci) (zobrazeni l2g)\n",
    "xx, yy = bspl_surf_mpts(N[0] + N[0] - 1, N[1] + N[1] - 1)\n",
    "mesh_coo = np.column_stack((np.reshape(xx, newshape=nn), np.reshape(yy, newshape=nn))) # uzlove body"
   ]
  },
  {
   "cell_type": "markdown",
   "metadata": {},
   "source": [
    "### Sestavení matice tuhosti a vektoru zatížení"
   ]
  },
  {
   "cell_type": "code",
   "execution_count": 7,
   "metadata": {},
   "outputs": [
    {
     "name": "stdout",
     "output_type": "stream",
     "text": [
      "3.9257600972984166e-15\n"
     ]
    }
   ],
   "source": [
    "K = np.zeros(shape=(nn, nn), dtype=np.float64)\n",
    "\n",
    "for e in range(ne):\n",
    "    ele_e = mesh_ele[e, :]\n",
    "\n",
    "    P = mesh_coo[ele_e, :]\n",
    "    P3D = np.zeros(shape=(nqp, n, 2), dtype=np.float64)\n",
    "    P3D[:, :, :] = P\n",
    "\n",
    "    J = P3D.transpose(0, 2, 1) @ dNdxi # hodnoty jakobianu zobrazeni Z^e v Gaussovych bodech\n",
    "\n",
    "    detJ = J[:, 0, 0]*J[:, 1, 1] - J[:, 0, 1]*J[:, 1, 0] # hodnoty determinantu jakobianu zobrazeni Z^e v Gaussovych bodech\n",
    "    absdetJ = np.abs(detJ)\n",
    "\n",
    "    invJ = np.zeros(shape=(nqp, 2, 2), dtype=np.float64) # hodnoty inverze jakobianu zobrazeni Z^e v Gaussovych bodech\n",
    "    invJ[:, 0, 0] =  J[:, 1, 1]/detJ                     # (pomoci Cramerova pravidla)\n",
    "    invJ[:, 0, 1] = -J[:, 0, 1]/detJ\n",
    "    invJ[:, 1, 0] = -J[:, 1, 0]/detJ\n",
    "    invJ[:, 1, 1] =  J[:, 0, 0]/detJ\n",
    "\n",
    "    dNdX = dNdxi @ invJ\n",
    "\n",
    "    tmp = np.reshape((dNdX @ dNdX.transpose(0, 2, 1)).transpose(2, 1, 0), newshape=(n*n, nqp)) # lokalni matice tuhosti\n",
    "    Kloc_flattened = tmp @ (absdetJ*quad_o3_QW)\n",
    "\n",
    "    tmp = np.ones(shape=n, dtype=np.int64)\n",
    "    K_ind_i = np.kron(tmp, ele_e)\n",
    "    K_ind_j = np.kron(ele_e, tmp)\n",
    "    K[K_ind_i, K_ind_j] += Kloc_flattened\n",
    "\n",
    "f = np.zeros(shape=nn, dtype=np.float64)\n",
    "\n",
    "print(np.linalg.norm(K @ np.ones(shape=nn))) # test"
   ]
  },
  {
   "cell_type": "markdown",
   "metadata": {},
   "source": [
    "### Zahrnutí Dirichletovy okrajové podmínky, sestavení a vyřešení příslušné soustavy"
   ]
  },
  {
   "cell_type": "code",
   "execution_count": 8,
   "metadata": {},
   "outputs": [],
   "source": [
    "nnd = 28 # pocet nasadovych funkci majicich nenulovou stopu na Gamma_D\n",
    "ind_d = np.hstack((ind[0, :], ind[1:-1, 0], ind[1:-1, -1], ind[-1, :])) # globalni indexy nasadovych funkci majicich nenulovou stopu na Gamma_D\n",
    "\n",
    "g = np.zeros(shape=nnd, dtype=np.float64)\n",
    "g[0:7] = -(1/8)*(mesh_coo[0:7, 0]**2) + 3\n",
    "g[7:14] = 3\n",
    "g[14:-7] = 1\n",
    "g[-7:] = -(1/8)*(mesh_coo[0:7, 0]**2) + 3\n",
    "\n",
    "B = np.zeros(shape=(nnd, nn), dtype=np.float64)\n",
    "B[[ i for i in range(nnd) ], ind_d] = 1\n",
    "\n",
    "A = np.zeros(shape=(nn + nnd, nn + nnd), dtype=np.float64)\n",
    "A[0:nn, 0:nn] = K\n",
    "A[nn:, 0:nn] = B\n",
    "A[0:nn, nn:] = B.T\n",
    "\n",
    "b = np.zeros(shape=(nn + nnd), dtype=np.float64)\n",
    "b[0:nn] = f\n",
    "b[nn:] = g\n",
    "\n",
    "fem_sol_c = np.linalg.solve(A, b)[0:nn]"
   ]
  },
  {
   "cell_type": "markdown",
   "metadata": {},
   "source": [
    "### Vykreslení přibližného řešení"
   ]
  },
  {
   "cell_type": "code",
   "execution_count": 9,
   "metadata": {},
   "outputs": [
    {
     "data": {
      "image/png": "[encoded data removed]",
      "text/plain": [
       "<Figure size 607x490 with 2 Axes>"
      ]
     },
     "metadata": {},
     "output_type": "display_data"
    }
   ],
   "source": [
    "plot_mesh_refele_xixi, plot_mesh_refele_etaeta = np.meshgrid(np.linspace(-1, 1, 20), np.linspace(-1, 1, 15))\n",
    "\n",
    "plot_mesh_xx = np.zeros(shape=(57, 58), dtype=np.float64)\n",
    "plot_mesh_yy = np.zeros(shape=(57, 58), dtype=np.float64)\n",
    "plot_mesh_v = np.zeros(shape=(57, 58), dtype=np.float64)\n",
    "\n",
    "mesh_ele_ind = np.vstack((np.kron(np.ones(shape=4, dtype=np.int64), np.array([0, 1, 2], dtype=np.int64)),\n",
    "                          np.kron(np.array([0, 1, 2, 3], dtype=np.int64), np.ones(shape=3, dtype=np.int64))))\n",
    "\n",
    "for e in range(ne):\n",
    "    ele_e = mesh_ele[e, :]\n",
    "    ele_e_midx = mesh_ele_ind[:, e]\n",
    "\n",
    "    P_e = mesh_coo[ele_e, :]\n",
    "    plot_mesh_xx_e = np.zeros(shape=(15, 20), dtype=np.float64)\n",
    "    plot_mesh_yy_e = np.zeros(shape=(15, 20), dtype=np.float64)\n",
    "    for i in range(15):\n",
    "        tmp = quad9_N(np.vstack((plot_mesh_refele_xixi[i, :], plot_mesh_refele_etaeta[i, :])))\n",
    "        plot_mesh_xx_e[i, :] = tmp.T @ P_e[:, 0]\n",
    "        plot_mesh_yy_e[i, :] = tmp.T @ P_e[:, 1]\n",
    "    plot_mesh_xx[(ele_e_midx[1]*15) - ele_e_midx[1]:(ele_e_midx[1]*15) - ele_e_midx[1] + 15,\n",
    "                 (ele_e_midx[0]*20) - ele_e_midx[0]:(ele_e_midx[0]*20) - ele_e_midx[0] + 20] = plot_mesh_xx_e\n",
    "    plot_mesh_yy[(ele_e_midx[1]*15) - ele_e_midx[1]:(ele_e_midx[1]*15) - ele_e_midx[1] + 15,\n",
    "                 (ele_e_midx[0]*20) - ele_e_midx[0]:(ele_e_midx[0]*20) - ele_e_midx[0] + 20] = plot_mesh_yy_e\n",
    "    \n",
    "    c_e = fem_sol_c[ele_e]\n",
    "    plot_mesh_v_e = np.zeros(shape=(15, 20), dtype=np.float64)\n",
    "    for i in range(15):\n",
    "        tmp = quad9_N(np.vstack((plot_mesh_refele_xixi[i, :], plot_mesh_refele_etaeta[i, :])))\n",
    "        plot_mesh_v_e[i, :] = tmp.T @ c_e\n",
    "    plot_mesh_v[(ele_e_midx[1]*15) - ele_e_midx[1]:(ele_e_midx[1]*15) - ele_e_midx[1] + 15,\n",
    "                (ele_e_midx[0]*20) - ele_e_midx[0]:(ele_e_midx[0]*20) - ele_e_midx[0] + 20] = plot_mesh_v_e\n",
    "    \n",
    "fig, ax = plt.subplots(figsize=(6.07, 4.9))\n",
    "cmesh = ax.pcolormesh(plot_mesh_xx, plot_mesh_yy, plot_mesh_v[:-1, :-1], cmap='jet', vmin=np.min(plot_mesh_v), vmax=np.max(plot_mesh_v))\n",
    "cbar = fig.colorbar(cmesh)\n",
    "\n",
    "ax.set_xticks([0, 1, 2, 3, 4, 5, 6, 7])\n",
    "ax.set_xticklabels([r'$0$', r'$1$', r'$2$', r'$3$', r'$4$', r'$5$', r'$6$', r'$7$'], fontsize=15)\n",
    "ax.set_yticks([0, 1, 2, 3, 4, 5, 6, 7])\n",
    "ax.set_yticklabels([r'$0$', r'$1$', r'$2$', r'$3$', r'$4$', r'$5$', r'$6$', r'$7$'], fontsize=15)\n",
    "\n",
    "cbar.ax.tick_params(labelsize=15)\n",
    "\n",
    "plt.show()"
   ]
  }
 ],
 "metadata": {
  "kernelspec": {
   "display_name": "environment",
   "language": "python",
   "name": "python3"
  },
  "language_info": {
   "codemirror_mode": {
    "name": "ipython",
    "version": 3
   },
   "file_extension": ".py",
   "mimetype": "text/x-python",
   "name": "python",
   "nbconvert_exporter": "python",
   "pygments_lexer": "ipython3",
   "version": "3.8.10"
  }
 },
 "nbformat": 4,
 "nbformat_minor": 2
}
