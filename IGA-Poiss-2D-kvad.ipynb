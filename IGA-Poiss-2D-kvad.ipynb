{
 "cells": [
  {
   "cell_type": "code",
   "execution_count": 1,
   "metadata": {},
   "outputs": [],
   "source": [
    "import numpy as np\n",
    "import matplotlib.pyplot as plt\n",
    "\n",
    "from scipy import interpolate"
   ]
  },
  {
   "cell_type": "markdown",
   "metadata": {},
   "source": [
    "### Druh konečného prvku, nainicializování bodů a vah Gaussovy-Legendreovy kvadratury"
   ]
  },
  {
   "cell_type": "code",
   "execution_count": 2,
   "metadata": {},
   "outputs": [],
   "source": [
    "n = 9 #2D konecne prvky (obdelniky na parametrickem prostoru) (9 B-spline funkci na 1 konecny prvek)\n",
    "\n",
    "line_o3_QP = np.array([-np.sqrt(3/5), 0, np.sqrt(3/5)], dtype=np.float64)\n",
    "line_o3_QW = np.array([5/9, 8/9, 5/9], dtype=np.float64)\n",
    "tmp = np.ones(shape=line_o3_QW.shape, dtype=np.float64)\n",
    "quad_o3_QP = np.vstack((np.kron(tmp, line_o3_QP), np.kron(line_o3_QP, tmp))) # Gaussovy body\n",
    "quad_o3_QW = np.kron(line_o3_QW, line_o3_QW) # vahy\n",
    "\n",
    "nqp = quad_o3_QP.shape[1] # celkovy pocet pouzitych Gaussovych bodu"
   ]
  },
  {
   "cell_type": "markdown",
   "metadata": {},
   "source": [
    "### Definice kvadratických B-spline násadových funkcí a jejich derivací na konečném prvku parametrického prostoru, definice lineárních násadových funkcí a jejich derivací na příslušném referenčním prvku"
   ]
  },
  {
   "cell_type": "markdown",
   "metadata": {},
   "source": [
    "Lineární násadové funkce jsou použity pro zobrazení bodů referenčního prvku na body konkrétního konečného prvku."
   ]
  },
  {
   "cell_type": "code",
   "execution_count": 3,
   "metadata": {},
   "outputs": [],
   "source": [
    "def quad9_N_e(knt_xi: np.ndarray, knt_eta: np.ndarray, knt_ind_b: np.ndarray, rs: np.ndarray) -> np.ndarray:\n",
    "\n",
    "    return np.vstack((interpolate.BSpline.basis_element(knt_xi[knt_ind_b[0, 0]:knt_ind_b[0, 0] + 4], False)(rs[0,:])*interpolate.BSpline.basis_element(knt_eta[knt_ind_b[1, 0]:knt_ind_b[1, 0] + 4], False)(rs[1,:]),\n",
    "                      interpolate.BSpline.basis_element(knt_xi[knt_ind_b[0, 1]:knt_ind_b[0, 1] + 4], False)(rs[0,:])*interpolate.BSpline.basis_element(knt_eta[knt_ind_b[1, 1]:knt_ind_b[1, 1] + 4], False)(rs[1,:]),\n",
    "                      interpolate.BSpline.basis_element(knt_xi[knt_ind_b[0, 2]:knt_ind_b[0, 2] + 4], False)(rs[0,:])*interpolate.BSpline.basis_element(knt_eta[knt_ind_b[1, 2]:knt_ind_b[1, 2] + 4], False)(rs[1,:]),\n",
    "                      interpolate.BSpline.basis_element(knt_xi[knt_ind_b[0, 3]:knt_ind_b[0, 3] + 4], False)(rs[0,:])*interpolate.BSpline.basis_element(knt_eta[knt_ind_b[1, 3]:knt_ind_b[1, 3] + 4], False)(rs[1,:]),\n",
    "                      interpolate.BSpline.basis_element(knt_xi[knt_ind_b[0, 4]:knt_ind_b[0, 4] + 4], False)(rs[0,:])*interpolate.BSpline.basis_element(knt_eta[knt_ind_b[1, 4]:knt_ind_b[1, 4] + 4], False)(rs[1,:]),\n",
    "                      interpolate.BSpline.basis_element(knt_xi[knt_ind_b[0, 5]:knt_ind_b[0, 5] + 4], False)(rs[0,:])*interpolate.BSpline.basis_element(knt_eta[knt_ind_b[1, 5]:knt_ind_b[1, 5] + 4], False)(rs[1,:]),\n",
    "                      interpolate.BSpline.basis_element(knt_xi[knt_ind_b[0, 6]:knt_ind_b[0, 6] + 4], False)(rs[0,:])*interpolate.BSpline.basis_element(knt_eta[knt_ind_b[1, 6]:knt_ind_b[1, 6] + 4], False)(rs[1,:]),\n",
    "                      interpolate.BSpline.basis_element(knt_xi[knt_ind_b[0, 7]:knt_ind_b[0, 7] + 4], False)(rs[0,:])*interpolate.BSpline.basis_element(knt_eta[knt_ind_b[1, 7]:knt_ind_b[1, 7] + 4], False)(rs[1,:]),\n",
    "                      interpolate.BSpline.basis_element(knt_xi[knt_ind_b[0, 8]:knt_ind_b[0, 8] + 4], False)(rs[0,:])*interpolate.BSpline.basis_element(knt_eta[knt_ind_b[1, 8]:knt_ind_b[1, 7] + 4], False)(rs[1,:])))\n",
    "\n",
    "def quad9_dNdxi_e(knt_xi: np.ndarray, knt_eta: np.ndarray, knt_ind_b: np.ndarray, rs: np.ndarray) -> np.ndarray:\n",
    "\n",
    "    return np.vstack((np.hstack((interpolate.BSpline.basis_element(knt_xi[knt_ind_b[0, 0]:knt_ind_b[0, 0] + 4], False)(rs[0,:], nu=1)*interpolate.BSpline.basis_element(knt_eta[knt_ind_b[1, 0]:knt_ind_b[1, 0] + 4], False)(rs[1,:]),\n",
    "                                 interpolate.BSpline.basis_element(knt_xi[knt_ind_b[0, 0]:knt_ind_b[0, 0] + 4], False)(rs[0,:])*interpolate.BSpline.basis_element(knt_eta[knt_ind_b[1, 0]:knt_ind_b[1, 0] + 4], False)(rs[1,:], nu=1))),\n",
    "                      np.hstack((interpolate.BSpline.basis_element(knt_xi[knt_ind_b[0, 1]:knt_ind_b[0, 1] + 4], False)(rs[0,:], nu=1)*interpolate.BSpline.basis_element(knt_eta[knt_ind_b[1, 1]:knt_ind_b[1, 1] + 4], False)(rs[1,:]),\n",
    "                                 interpolate.BSpline.basis_element(knt_xi[knt_ind_b[0, 1]:knt_ind_b[0, 1] + 4], False)(rs[0,:])*interpolate.BSpline.basis_element(knt_eta[knt_ind_b[1, 1]:knt_ind_b[1, 1] + 4], False)(rs[1,:], nu=1))),\n",
    "                      np.hstack((interpolate.BSpline.basis_element(knt_xi[knt_ind_b[0, 2]:knt_ind_b[0, 2] + 4], False)(rs[0,:], nu=1)*interpolate.BSpline.basis_element(knt_eta[knt_ind_b[1, 2]:knt_ind_b[1, 2] + 4], False)(rs[1,:]),\n",
    "                                 interpolate.BSpline.basis_element(knt_xi[knt_ind_b[0, 2]:knt_ind_b[0, 2] + 4], False)(rs[0,:])*interpolate.BSpline.basis_element(knt_eta[knt_ind_b[1, 2]:knt_ind_b[1, 2] + 4], False)(rs[1,:], nu=1))),\n",
    "                      np.hstack((interpolate.BSpline.basis_element(knt_xi[knt_ind_b[0, 3]:knt_ind_b[0, 3] + 4], False)(rs[0,:], nu=1)*interpolate.BSpline.basis_element(knt_eta[knt_ind_b[1, 3]:knt_ind_b[1, 3] + 4], False)(rs[1,:]),\n",
    "                                 interpolate.BSpline.basis_element(knt_xi[knt_ind_b[0, 3]:knt_ind_b[0, 3] + 4], False)(rs[0,:])*interpolate.BSpline.basis_element(knt_eta[knt_ind_b[1, 3]:knt_ind_b[1, 3] + 4], False)(rs[1,:], nu=1))),\n",
    "                      np.hstack((interpolate.BSpline.basis_element(knt_xi[knt_ind_b[0, 4]:knt_ind_b[0, 4] + 4], False)(rs[0,:], nu=1)*interpolate.BSpline.basis_element(knt_eta[knt_ind_b[1, 4]:knt_ind_b[1, 4] + 4], False)(rs[1,:]),\n",
    "                                 interpolate.BSpline.basis_element(knt_xi[knt_ind_b[0, 4]:knt_ind_b[0, 4] + 4], False)(rs[0,:])*interpolate.BSpline.basis_element(knt_eta[knt_ind_b[1, 4]:knt_ind_b[1, 4] + 4], False)(rs[1,:], nu=1))),\n",
    "                      np.hstack((interpolate.BSpline.basis_element(knt_xi[knt_ind_b[0, 5]:knt_ind_b[0, 5] + 4], False)(rs[0,:], nu=1)*interpolate.BSpline.basis_element(knt_eta[knt_ind_b[1, 5]:knt_ind_b[1, 5] + 4], False)(rs[1,:]),\n",
    "                                 interpolate.BSpline.basis_element(knt_xi[knt_ind_b[0, 5]:knt_ind_b[0, 5] + 4], False)(rs[0,:])*interpolate.BSpline.basis_element(knt_eta[knt_ind_b[1, 5]:knt_ind_b[1, 5] + 4], False)(rs[1,:], nu=1))),\n",
    "                      np.hstack((interpolate.BSpline.basis_element(knt_xi[knt_ind_b[0, 6]:knt_ind_b[0, 6] + 4], False)(rs[0,:], nu=1)*interpolate.BSpline.basis_element(knt_eta[knt_ind_b[1, 6]:knt_ind_b[1, 6] + 4], False)(rs[1,:]),\n",
    "                                 interpolate.BSpline.basis_element(knt_xi[knt_ind_b[0, 6]:knt_ind_b[0, 6] + 4], False)(rs[0,:])*interpolate.BSpline.basis_element(knt_eta[knt_ind_b[1, 6]:knt_ind_b[1, 6] + 4], False)(rs[1,:], nu=1))),\n",
    "                      np.hstack((interpolate.BSpline.basis_element(knt_xi[knt_ind_b[0, 7]:knt_ind_b[0, 7] + 4], False)(rs[0,:], nu=1)*interpolate.BSpline.basis_element(knt_eta[knt_ind_b[1, 7]:knt_ind_b[1, 7] + 4], False)(rs[1,:]),\n",
    "                                 interpolate.BSpline.basis_element(knt_xi[knt_ind_b[0, 7]:knt_ind_b[0, 7] + 4], False)(rs[0,:])*interpolate.BSpline.basis_element(knt_eta[knt_ind_b[1, 7]:knt_ind_b[1, 7] + 4], False)(rs[1,:], nu=1))),\n",
    "                      np.hstack((interpolate.BSpline.basis_element(knt_xi[knt_ind_b[0, 8]:knt_ind_b[0, 8] + 4], False)(rs[0,:], nu=1)*interpolate.BSpline.basis_element(knt_eta[knt_ind_b[1, 8]:knt_ind_b[1, 7] + 4], False)(rs[1,:]),\n",
    "                                 interpolate.BSpline.basis_element(knt_xi[knt_ind_b[0, 8]:knt_ind_b[0, 8] + 4], False)(rs[0,:])*interpolate.BSpline.basis_element(knt_eta[knt_ind_b[1, 8]:knt_ind_b[1, 8] + 4], False)(rs[1,:], nu=1)))))\n",
    "\n",
    "def quad_M(rs: np.ndarray) -> np.ndarray:\n",
    "\n",
    "    return 0.25*np.vstack(((1-rs[0,:])*(1-rs[1,:]),\n",
    "                           (1+rs[0,:])*(1-rs[1,:]),\n",
    "                           (1+rs[0,:])*(1+rs[1,:]),\n",
    "                           (1-rs[0,:])*(1+rs[1,:])))\n",
    "\n",
    "def quad_dMdxi(rs: np.ndarray) -> np.ndarray:\n",
    "\n",
    "    return 0.25*np.vstack((np.hstack((-(1-rs[1,:]), -(1-rs[0,:]))),\n",
    "                           np.hstack((+(1-rs[1,:]), -(1+rs[0,:]))),\n",
    "                           np.hstack((+(1+rs[1,:]), +(1+rs[0,:]))),\n",
    "                           np.hstack((-(1+rs[1,:]), +(1-rs[0,:])))))"
   ]
  },
  {
   "cell_type": "markdown",
   "metadata": {},
   "source": [
    "### Výpočet hodnot lineárních násadových funkcí a hodnot jejich derivací v bodech Gaussovy kvadratury"
   ]
  },
  {
   "cell_type": "markdown",
   "metadata": {},
   "source": [
    "(kvůli zobrazení bodů referenčního prvku na body konkrétního konečného prvku)"
   ]
  },
  {
   "cell_type": "code",
   "execution_count": 4,
   "metadata": {},
   "outputs": [],
   "source": [
    "quad_o3_QP_M = quad_M(quad_o3_QP)\n",
    "\n",
    "tmp = quad_dMdxi(quad_o3_QP)\n",
    "dMdxi = np.zeros(shape=(nqp, 4, 2), dtype=np.float64)\n",
    "dMdxi[:, :, 0] = tmp[:, 0:nqp].T\n",
    "dMdxi[:, :, 1] = tmp[:, nqp:2*nqp].T"
   ]
  },
  {
   "cell_type": "markdown",
   "metadata": {},
   "source": [
    "### Příslušný uzlový vektor a řídící body, dekompozice parametrického prostoru na konečné prvky"
   ]
  },
  {
   "cell_type": "code",
   "execution_count": 5,
   "metadata": {},
   "outputs": [],
   "source": [
    "knt_xi = np.array([0, 0, 0, 1, 2, 3, 3, 3], dtype=np.float64) # uzlove vektory\n",
    "knt_eta = np.array([0, 0, 0, 1, 2, 3, 4, 4, 4], dtype=np.float64)\n",
    "\n",
    "ctrl_pol_b = np.array([[0.0, 0.0], [1.0, 0.0], [2.0, 0.0], [3.0, 0.0], [4.0, 0.0],\n",
    "                       [0.0, 1.75], [1.0, 1.5], [2.0, 1.25], [3.0, 1.0], [4.0, 0.75],\n",
    "                       [0.875, 4.375], [1.75, 3.75], [2.625, 3.125], [3.5, 2.5], [4.375, 1.875],\n",
    "                       [2.625, 6.125], [3.25, 5.25], [3.875, 4.375], [4.5, 3.5], [5.125, 2.625],\n",
    "                       [5.25, 7.0], [5.5, 6.0], [5.75, 5.0], [6.0, 4.0], [6.25, 3.0],\n",
    "                       [7.0, 7.0], [7.0, 6.0], [7.0, 5.0], [7.0, 4.0], [7.0, 3.0]], dtype=np.float64) # ridici body\n",
    "\n",
    "N_n = np.array([4, 5])\n",
    "ne = np.prod(N_n - 1) # pocet pouzitych konecnych prvku\n",
    "nn = np.prod(N_n) # pocet uzlu (tez uzlovych bodu)\n",
    "\n",
    "ind_n = np.zeros(shape=(N_n[1], N_n[0]), dtype=np.int64) # matice globalnich indexu uzlu\n",
    "ind_n[:, :] = np.reshape([ i for i in range(0, nn) ], newshape=(N_n[1], N_n[0]))\n",
    "mesh_ele_n = np.column_stack((np.reshape(ind_n[0:-1, 0:-1], newshape=ne),\n",
    "                              np.reshape(ind_n[0:-1, 1:], newshape=ne),\n",
    "                              np.reshape(ind_n[1:, 1:], newshape=ne),\n",
    "                              np.reshape(ind_n[1:, 0:-1], newshape=ne))) # matice urcujici vztah mezi lokalnimi (na jednom konecnem prvku)\n",
    "                                                                         # a globalnimi indexy uzlu (zobrazeni l2g_nod)\n",
    "xixi, etaeta = np.meshgrid(knt_xi[2:6], knt_eta[2:7])\n",
    "mesh_coo_n = np.column_stack((np.reshape(xixi, newshape=nn), np.reshape(etaeta, newshape=nn))) # uzly na parametrickem prostoru\n",
    "\n",
    "N_b = np.array([knt_xi.shape[0] - 2 - 1, knt_eta.shape[0] - 2 - 1])\n",
    "nb = np.prod(N_b) # pocet nasadovych funkci\n",
    "\n",
    "ind_b = np.zeros(shape=(N_b[1], N_b[0]), dtype=np.int64) # matice globalnich indexu nasadovych funkci\n",
    "ind_b[:, :] = np.reshape([ i for i in range(0, nb) ], newshape=(N_b[1], N_b[0]))\n",
    "mesh_ele_b = np.column_stack((np.reshape(ind_b[0:4, 0:3], newshape=ne),\n",
    "                              np.reshape(ind_b[0:4, 1:4], newshape=ne),\n",
    "                              np.reshape(ind_b[0:4, 2:5], newshape=ne),\n",
    "                              np.reshape(ind_b[1:5, 0:3], newshape=ne),\n",
    "                              np.reshape(ind_b[1:5, 1:4], newshape=ne),\n",
    "                              np.reshape(ind_b[1:5, 2:5], newshape=ne),\n",
    "                              np.reshape(ind_b[2:6, 0:3], newshape=ne),\n",
    "                              np.reshape(ind_b[2:6, 1:4], newshape=ne),\n",
    "                              np.reshape(ind_b[2:6, 2:5], newshape=ne))) # matice urcujici vztah mezi lokalnimi (na jednom konecnem prvku)\n",
    "                                                                         # a globalnimi indexy nasadovych funkci (zobrazeni l2g)\n",
    "\n",
    "knt_ind_b = np.vstack((np.kron(np.ones(shape=6, dtype=np.int64), np.array([0, 1, 2, 3, 4], dtype=np.int64)),\n",
    "                       np.kron(np.array([0, 1, 2, 3, 4, 5], dtype=np.int64), np.ones(shape=5, dtype=np.int64))))"
   ]
  },
  {
   "cell_type": "markdown",
   "metadata": {},
   "source": [
    "### Sestavení matice tuhosti a vektoru zatížení"
   ]
  },
  {
   "cell_type": "code",
   "execution_count": 6,
   "metadata": {},
   "outputs": [
    {
     "name": "stdout",
     "output_type": "stream",
     "text": [
      "7.472456031606033e-16\n"
     ]
    }
   ],
   "source": [
    "K = np.zeros(shape=(nb, nb), dtype=np.float64)\n",
    "\n",
    "dNdxi = np.zeros(shape=(nqp, n, 2), dtype=np.float64)\n",
    "for e in range(ne):\n",
    "    ele_n_e = mesh_ele_n[e, :]\n",
    "    ele_b_e = mesh_ele_b[e, :]\n",
    "\n",
    "    P_phi = mesh_coo_n[ele_n_e, :]\n",
    "    P3D_phi = np.zeros(shape=(nqp, 4, 2), dtype=np.float64)\n",
    "    P3D_phi[:, :, :] = P_phi\n",
    "    \n",
    "    J_phi = P3D_phi.transpose(0, 2, 1) @ dMdxi # hodnoty jakobianu zobrazeni phi^e v Gaussovych bodech\n",
    "    detJ_phi = J_phi[:, 0, 0]*J_phi[:, 1, 1] - J_phi[:, 0, 1]*J_phi[:, 1, 0] # hodnoty determinantu jakobianu zobrazeni phi^e v Gaussovych bodech\n",
    "\n",
    "    quad_o3_QP_e = P_phi.T @ quad_o3_QP_M # zobrazeni Gaussovych bodu na konecny prvek na parametrickem prostoru\n",
    "    tmp = quad9_dNdxi_e(knt_xi, knt_eta, knt_ind_b[:, ele_b_e], quad_o3_QP_e) # hodnoty derivaci B-spline nasadovych funkci na parametrickem prostoru\n",
    "    dNdxi[:, :, 0] = tmp[:, 0:nqp].T                                          # v Gaussovych bodech (zobrazenych na konecny prvek na parametrickem prostoru)\n",
    "    dNdxi[:, :, 1] = tmp[:, nqp:2*nqp].T\n",
    "\n",
    "    P_spq = ctrl_pol_b[ele_b_e, :]\n",
    "    P3D_spq = np.zeros(shape=(nqp, n, 2), dtype=np.float64)\n",
    "    P3D_spq[:, :, :] = P_spq\n",
    "\n",
    "    J_spq = P3D_spq.transpose(0, 2, 1) @ dNdxi # hodnoty jakobianu zobrazeni S_pq (B-spline plochy stupne p=2 a q=2) v Gaussovych bodech (zobrazenych na konecny prvek na parametrickem prostoru)\n",
    "    detJ_spq = J_spq[:, 0, 0]*J_spq[:, 1, 1] - J_spq[:, 0, 1]*J_spq[:, 1, 0] # hodnoty determinantu jakobianu zobrazeni S_pq v Gaussovych bodech (zobrazenych na konecny prvek na parametrickem prostoru)\n",
    "\n",
    "    invJ_spq = np.zeros(shape=(nqp, 2, 2), dtype=np.float64) # hodnoty inverze jakobianu zobrazeni S_pq v Gaussovych bodech (zobrazenych na konecny prvek na parametrickem prostoru)\n",
    "    invJ_spq[:, 0, 0] =  J_spq[:, 1, 1]/detJ_spq             # (pomoci Cramerova pravidla)\n",
    "    invJ_spq[:, 0, 1] = -J_spq[:, 0, 1]/detJ_spq\n",
    "    invJ_spq[:, 1, 0] = -J_spq[:, 1, 0]/detJ_spq\n",
    "    invJ_spq[:, 1, 1] =  J_spq[:, 0, 0]/detJ_spq\n",
    "\n",
    "    detJ = detJ_spq*detJ_phi # hodnoty determinantu jakobianu zobrazeni Z^e v Gaussovych bodech\n",
    "    absdetJ = np.abs(detJ)\n",
    "\n",
    "    dNdX = dNdxi @ invJ_spq\n",
    "\n",
    "    tmp = np.reshape((dNdX @ dNdX.transpose(0, 2, 1)).transpose(2, 1, 0), newshape=(n*n, nqp)) # lokalni matice tuhosti\n",
    "    Kloc_flattened = tmp @ (absdetJ*quad_o3_QW)\n",
    "\n",
    "    tmp = np.ones(shape=n, dtype=np.int64)\n",
    "    K_ind_i = np.kron(ele_b_e, tmp)\n",
    "    K_ind_j = np.kron(tmp, ele_b_e)\n",
    "    K[K_ind_i, K_ind_j] += Kloc_flattened\n",
    "\n",
    "f = np.zeros(shape=nb, dtype=np.float64)\n",
    "\n",
    "print(np.linalg.norm(K @ np.ones(shape=nb))) # test"
   ]
  },
  {
   "cell_type": "markdown",
   "metadata": {},
   "source": [
    "### Zahrnutí Dirichletovy okrajové podmínky, sestavení a vyřešení příslušné soustavy"
   ]
  },
  {
   "cell_type": "code",
   "execution_count": 7,
   "metadata": {},
   "outputs": [],
   "source": [
    "nbd = 18 # pocet nasadovych funkci majicich nenulovou stopu na Gamma_D\n",
    "ind_bd = np.hstack((ind_b[0, :], ind_b[1:-1, 0], ind_b[1:-1, -1], ind_b[-1, :])) # globalni indexy nasadovych funkci majicich nenulovou stopu na Gamma_D\n",
    "\n",
    "# Ziskani koeficientu pro nasadove funkce s nenulovou stopou na Gamma_1 pomoci interpolace (zpracovano v 1D forme)\n",
    "Gam1_xi_expts = np.array([0, 0.5, 1.5, 2.5, 3])\n",
    "Gam1_x_expts = interpolate.BSpline(knt_xi, np.array([0, 1, 2, 3, 4]), 2, False)(Gam1_xi_expts)\n",
    "Gam1_x_expts_v = -(1/8)*(Gam1_x_expts**2) + 3\n",
    "A_int_Gam1 = np.column_stack((interpolate.BSpline.basis_element(knt_xi[0:4], False)(Gam1_xi_expts),\n",
    "                              interpolate.BSpline.basis_element(knt_xi[1:5], False)(Gam1_xi_expts),\n",
    "                              interpolate.BSpline.basis_element(knt_xi[2:6], False)(Gam1_xi_expts),\n",
    "                              interpolate.BSpline.basis_element(knt_xi[3:7], False)(Gam1_xi_expts),\n",
    "                              interpolate.BSpline.basis_element(knt_xi[4:8], False)(Gam1_xi_expts)))\n",
    "A_int_Gam1[np.isnan(A_int_Gam1)] = 0 # Odstraneni NaN u prvku, kde ma byt spravne hodnota 0\n",
    "A_int_Gam1[4, 4] = 1 # Bug fix (spravna hodnota prvku je 1, nikoliv 0)\n",
    "b_int_Gam1 = Gam1_x_expts_v\n",
    "Gam1_c = np.linalg.solve(A_int_Gam1, b_int_Gam1)\n",
    "\n",
    "g = np.zeros(shape=nbd, dtype=np.float64)\n",
    "g[0:5] = Gam1_c\n",
    "g[5:9] = 3\n",
    "g[9:-5] = 1\n",
    "g[-5:] = Gam1_c\n",
    "\n",
    "B = np.zeros(shape=(nbd, nb), dtype=np.float64)\n",
    "B[[ i for i in range(nbd) ], ind_bd] = 1\n",
    "\n",
    "A = np.zeros(shape=(nb + nbd, nb + nbd), dtype=np.float64)\n",
    "A[0:nb, 0:nb] = K\n",
    "A[nb:, 0:nb] = B\n",
    "A[0:nb, nb:] = B.T\n",
    "\n",
    "b = np.zeros(shape=(nb + nbd), dtype=np.float64)\n",
    "b[0:nb] = f\n",
    "b[nb:] = g\n",
    "\n",
    "iga_sol_c = np.linalg.solve(A, b)[0:nb]"
   ]
  },
  {
   "cell_type": "markdown",
   "metadata": {},
   "source": [
    "### Vykreslení přibližného řešení"
   ]
  },
  {
   "cell_type": "code",
   "execution_count": 8,
   "metadata": {},
   "outputs": [],
   "source": [
    "# Deklarace a definice pomocnych funkci\n",
    "\n",
    "def bspl_surf_mpts(xixi: np.ndarray, etaeta: np.ndarray, ctrlpts: np.ndarray):\n",
    "    bspl_basis_xi = []\n",
    "    c_xi = np.zeros(shape=5, dtype=np.float64)\n",
    "    for i in range(5):\n",
    "        bspl_basis_xi.append(interpolate.BSpline(knt_xi, c_xi, 2, extrapolate=False))\n",
    "\n",
    "    bspl_basis_eta = []\n",
    "    c_eta = np.zeros(shape=6, dtype=np.float64)\n",
    "    for i in range(6):\n",
    "        bspl_basis_eta.append(interpolate.BSpline(knt_eta, c_eta, 2, extrapolate=False))\n",
    "    \n",
    "    xx = np.zeros(shape=xixi.shape, dtype=np.float64)\n",
    "    yy = np.zeros(shape=etaeta.shape, dtype=np.float64)\n",
    "    for i in range(6):\n",
    "        c_eta[i] = 1\n",
    "        for j in range(5):\n",
    "            c_xi[j] = 1\n",
    "            xx += ctrlpts[i, j, 0]*bspl_basis_xi[j](xixi)*bspl_basis_eta[i](etaeta)\n",
    "            yy += ctrlpts[i, j, 1]*bspl_basis_xi[j](xixi)*bspl_basis_eta[i](etaeta)\n",
    "            c_xi[j] = 0\n",
    "        c_eta[i] = 0\n",
    "\n",
    "    return xx, yy\n",
    "\n",
    "def bspl_surf_evalpts(xixi: np.ndarray, etaeta: np.ndarray, ctrlpts: np.ndarray):\n",
    "    bspl_basis_xi = []\n",
    "    c_xi = np.zeros(shape=5, dtype=np.float64)\n",
    "    for i in range(5):\n",
    "        bspl_basis_xi.append(interpolate.BSpline(knt_xi, c_xi, 2, extrapolate=False))\n",
    "\n",
    "    bspl_basis_eta = []\n",
    "    c_eta = np.zeros(shape=6, dtype=np.float64)\n",
    "    for i in range(6):\n",
    "        bspl_basis_eta.append(interpolate.BSpline(knt_eta, c_eta, 2, extrapolate=False))\n",
    "    \n",
    "    vals = np.zeros(shape=xixi.shape, dtype=np.float64)\n",
    "    for i in range(6):\n",
    "        c_eta[i] = 1\n",
    "        for j in range(5):\n",
    "            c_xi[j] = 1\n",
    "            vals += ctrlpts[i, j, 2]*bspl_basis_xi[j](xixi)*bspl_basis_eta[i](etaeta)\n",
    "            c_xi[j] = 0\n",
    "        c_eta[i] = 0\n",
    "\n",
    "    return vals"
   ]
  },
  {
   "cell_type": "code",
   "execution_count": 9,
   "metadata": {},
   "outputs": [
    {
     "data": {
      "image/png": "[encoded data removed]",
      "text/plain": [
       "<Figure size 607x490 with 2 Axes>"
      ]
     },
     "metadata": {},
     "output_type": "display_data"
    }
   ],
   "source": [
    "ctrlpts = np.zeros(shape=(6, 5, 3))\n",
    "for i in range(6):\n",
    "    for j in range(5):\n",
    "        ctrlpts[i, j, :] = np.hstack((ctrl_pol_b[5*i + j, :], iga_sol_c[5*i + j]))\n",
    "\n",
    "plot_mesh_xixi, plot_mesh_etaeta = np.meshgrid(np.linspace(0, 3, 60), np.linspace(0, 4, 60))\n",
    "\n",
    "plot_mesh_xx, plot_mesh_yy = bspl_surf_mpts(plot_mesh_xixi, plot_mesh_etaeta, ctrlpts)\n",
    "plot_mesh_v = bspl_surf_evalpts(plot_mesh_xixi, plot_mesh_etaeta, ctrlpts)\n",
    "\n",
    "fig, ax = plt.subplots(figsize=(6.07, 4.9))\n",
    "cmesh = ax.pcolormesh(plot_mesh_xx, plot_mesh_yy, plot_mesh_v[:-1, :-1], cmap='jet', vmin=np.min(plot_mesh_v), vmax=np.max(plot_mesh_v))\n",
    "cbar = fig.colorbar(cmesh)\n",
    "\n",
    "ax.set_xticks([0, 1, 2, 3, 4, 5, 6, 7])\n",
    "ax.set_xticklabels([r'$0$', r'$1$', r'$2$', r'$3$', r'$4$', r'$5$', r'$6$', r'$7$'], fontsize=15)\n",
    "ax.set_yticks([0, 1, 2, 3, 4, 5, 6, 7])\n",
    "ax.set_yticklabels([r'$0$', r'$1$', r'$2$', r'$3$', r'$4$', r'$5$', r'$6$', r'$7$'], fontsize=15)\n",
    "\n",
    "cbar.ax.tick_params(labelsize=15)\n",
    "\n",
    "plt.show()"
   ]
  }
 ],
 "metadata": {
  "kernelspec": {
   "display_name": "environment",
   "language": "python",
   "name": "python3"
  },
  "language_info": {
   "codemirror_mode": {
    "name": "ipython",
    "version": 3
   },
   "file_extension": ".py",
   "mimetype": "text/x-python",
   "name": "python",
   "nbconvert_exporter": "python",
   "pygments_lexer": "ipython3",
   "version": "3.8.10"
  }
 },
 "nbformat": 4,
 "nbformat_minor": 2
}
